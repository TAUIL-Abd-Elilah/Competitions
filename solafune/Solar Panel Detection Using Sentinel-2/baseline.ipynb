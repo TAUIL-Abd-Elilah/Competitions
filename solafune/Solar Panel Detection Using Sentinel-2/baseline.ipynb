{
 "cells": [
  {
   "cell_type": "code",
   "execution_count": null,
   "metadata": {},
   "outputs": [],
   "source": [
    "import os\n",
    "import tifffile\n",
    "import numpy as np \n",
    "import pandas as pd\n",
    "import lightgbm as lgb "
   ]
  },
  {
   "cell_type": "code",
   "execution_count": null,
   "metadata": {},
   "outputs": [],
   "source": [
    "images = os.listdir('../data/train/s2_image/')\n",
    "masks  = os.listdir('../data/train/mask/')"
   ]
  },
  {
   "cell_type": "code",
   "execution_count": null,
   "metadata": {},
   "outputs": [],
   "source": [
    "img = tifffile.imread('../data/train/mask/' + masks[1])"
   ]
  },
  {
   "cell_type": "code",
   "execution_count": null,
   "metadata": {},
   "outputs": [],
   "source": [
    "img.shape "
   ]
  },
  {
   "cell_type": "code",
   "execution_count": null,
   "metadata": {},
   "outputs": [],
   "source": [
    "data_list = []\n",
    "\n",
    "for i in range(len(images)):\n",
    "    img = tifffile.imread('../data/train/s2_image//' + images[i]).astype(float)\n",
    "    msk = tifffile.imread('../data/train/mask/'   + masks[i]).astype(float)\n",
    "\n",
    "    reshaped_img = img.reshape(-1, 12) # (23, 23, 12) -> (23*23, 12)\n",
    "    flatten_mask = msk.reshape(-1,1)   # (23, 23) -> (23*23, 1)\n",
    "\n",
    "    is_train     = 1\n",
    "    if i % 5 == 0:  is_train     = 0\n",
    "    is_train_image = np.full((reshaped_img.shape[0], 1), is_train)\n",
    "    \n",
    "    combine_data = np.hstack((reshaped_img, flatten_mask))\n",
    "    combine_data = np.hstack((combine_data, is_train_image))\n",
    "\n",
    "    data_list.append(combine_data)\n",
    "\n",
    "data_list = np.vstack(data_list)\n",
    "columns   = ['B1', 'B2', 'B3', 'B4', 'B5', 'B6', 'B7', 'B8', 'B9', 'B10', 'B11', 'B12', 'mask', 'is_train'] \n",
    "df        = pd.DataFrame(data_list, columns=columns)"
   ]
  },
  {
   "cell_type": "code",
   "execution_count": null,
   "metadata": {},
   "outputs": [],
   "source": [
    "df['is_train'].value_counts()"
   ]
  },
  {
   "cell_type": "code",
   "execution_count": null,
   "metadata": {},
   "outputs": [],
   "source": [
    "f = ['B1', 'B2', 'B3', 'B4', 'B5', 'B6', 'B7', 'B8', 'B9', 'B10', 'B11', 'B12']\n",
    "t = 'mask'\n",
    "\n",
    "X_train = df[df['is_train']==1][f].values\n",
    "X_test  = df[df['is_train']==0][f].values \n",
    "\n",
    "y_train = df[df['is_train']==1][t].values\n",
    "y_test  = df[df['is_train']==0][t].values "
   ]
  },
  {
   "cell_type": "code",
   "execution_count": null,
   "metadata": {},
   "outputs": [],
   "source": [
    "X_train.shape, X_test.shape, y_train.shape, y_test.shape"
   ]
  },
  {
   "cell_type": "code",
   "execution_count": null,
   "metadata": {},
   "outputs": [],
   "source": [
    "\n",
    "params = {\n",
    "    'n_estimators': 1000,\n",
    "    'learning_rate': 0.01 \n",
    "}\n",
    "model = lgb.LGBMClassifier(**params)\n",
    "model.fit(X_train, y_train, \n",
    "          eval_set = [(X_test, y_test)], \n",
    "          early_stopping_rounds=15,\n",
    "          verbose = 300,\n",
    "          )"
   ]
  },
  {
   "cell_type": "code",
   "execution_count": null,
   "metadata": {},
   "outputs": [],
   "source": [
    "images = os.listdir('../data/evaluation/')\n",
    "masks  = os.listdir('../data/sample/')\n",
    "\n",
    "images.sort()\n",
    "masks.sort()"
   ]
  },
  {
   "cell_type": "code",
   "execution_count": null,
   "metadata": {},
   "outputs": [],
   "source": [
    "if not os.path.isdir('../data/output'):\n",
    "    os.mkdir('../data/output')"
   ]
  },
  {
   "cell_type": "code",
   "execution_count": null,
   "metadata": {},
   "outputs": [],
   "source": [
    "data_list = []\n",
    "\n",
    "for i in range(len(images)):\n",
    "    img = tifffile.imread('../data/evaluation/' + images[i]).astype(float)\n",
    "    msk = tifffile.imread('../data/sample/'     + masks[i]).astype(float)\n",
    "\n",
    "    reshaped_img = img.reshape(-1, 12) # (23, 23, 12) -> (23*23, 12)\n",
    "    name_image   = np.full((reshaped_img.shape[0], 1), masks[i])\n",
    "    shape_image  = np.full((reshaped_img.shape[0], 2), (msk.shape[0], msk.shape[1]))\n",
    "\n",
    "    combine_data = np.hstack((reshaped_img, name_image))\n",
    "    combine_data = np.hstack((combine_data, shape_image))\n",
    "\n",
    "\n",
    "    data_list.append(combine_data)\n",
    "\n",
    "data_list = np.vstack(data_list)\n",
    "columns   = ['B1', 'B2', 'B3', 'B4', 'B5', 'B6', 'B7', 'B8', 'B9', 'B10', 'B11', 'B12', 'name', 'w', 'h'] \n",
    "df        = pd.DataFrame(data_list, columns=columns)"
   ]
  },
  {
   "cell_type": "code",
   "execution_count": null,
   "metadata": {},
   "outputs": [],
   "source": [
    "tifffile.imread('../data/sample/evaluation_mask_13.tif').astype(float).shape"
   ]
  },
  {
   "cell_type": "code",
   "execution_count": null,
   "metadata": {},
   "outputs": [],
   "source": [
    "df[df['name'] == 'evaluation_mask_13.tif']"
   ]
  },
  {
   "cell_type": "code",
   "execution_count": null,
   "metadata": {},
   "outputs": [],
   "source": [
    "X = df[f].values\n",
    "preds = model.predict_proba(X)"
   ]
  },
  {
   "cell_type": "code",
   "execution_count": null,
   "metadata": {},
   "outputs": [],
   "source": [
    "preds = np.argmax(preds, axis=1)"
   ]
  },
  {
   "cell_type": "code",
   "execution_count": null,
   "metadata": {},
   "outputs": [],
   "source": [
    "df['mask'] = preds"
   ]
  },
  {
   "cell_type": "code",
   "execution_count": null,
   "metadata": {},
   "outputs": [],
   "source": [
    "df['h'] = df['h'].astype('int')\n",
    "df['w'] = df['w'].astype('int')"
   ]
  },
  {
   "cell_type": "code",
   "execution_count": null,
   "metadata": {},
   "outputs": [],
   "source": [
    "for i in range(len(masks)):\n",
    "    df_tmp     = df[df['name'] == masks[i]].reset_index(drop=True)\n",
    "    preds_mask = df_tmp['mask'].values.astype(np.uint8)\n",
    "    preds_mask = preds_mask.reshape(df_tmp['h'][0], df_tmp['w'][0])\n",
    "    tifffile.imwrite('../data/output/' + df_tmp['name'][0], preds_mask)"
   ]
  },
  {
   "cell_type": "code",
   "execution_count": null,
   "metadata": {},
   "outputs": [],
   "source": []
  },
  {
   "cell_type": "code",
   "execution_count": null,
   "metadata": {},
   "outputs": [],
   "source": []
  },
  {
   "cell_type": "code",
   "execution_count": null,
   "metadata": {},
   "outputs": [],
   "source": []
  },
  {
   "cell_type": "code",
   "execution_count": null,
   "metadata": {},
   "outputs": [],
   "source": []
  }
 ],
 "metadata": {
  "kernelspec": {
   "display_name": "phd",
   "language": "python",
   "name": "python3"
  },
  "language_info": {
   "codemirror_mode": {
    "name": "ipython",
    "version": 3
   },
   "file_extension": ".py",
   "mimetype": "text/x-python",
   "name": "python",
   "nbconvert_exporter": "python",
   "pygments_lexer": "ipython3",
   "version": "3.10.10"
  }
 },
 "nbformat": 4,
 "nbformat_minor": 2
}
