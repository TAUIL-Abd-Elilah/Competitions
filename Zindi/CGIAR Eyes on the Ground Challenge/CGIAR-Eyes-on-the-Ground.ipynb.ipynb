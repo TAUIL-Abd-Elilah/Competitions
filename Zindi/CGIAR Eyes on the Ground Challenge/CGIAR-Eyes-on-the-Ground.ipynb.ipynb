{
 "cells": [
  {
   "cell_type": "code",
   "execution_count": 1,
   "id": "1930dc9e",
   "metadata": {
    "execution": {
     "iopub.execute_input": "2023-11-03T14:41:59.004252Z",
     "iopub.status.busy": "2023-11-03T14:41:59.003869Z",
     "iopub.status.idle": "2023-11-03T14:42:05.242909Z",
     "shell.execute_reply": "2023-11-03T14:42:05.242087Z"
    },
    "papermill": {
     "duration": 6.248648,
     "end_time": "2023-11-03T14:42:05.245426",
     "exception": false,
     "start_time": "2023-11-03T14:41:58.996778",
     "status": "completed"
    },
    "tags": []
   },
   "outputs": [
    {
     "name": "stderr",
     "output_type": "stream",
     "text": [
      "/opt/conda/lib/python3.10/site-packages/scipy/__init__.py:146: UserWarning: A NumPy version >=1.16.5 and <1.23.0 is required for this version of SciPy (detected version 1.23.5\n",
      "  warnings.warn(f\"A NumPy version >={np_minversion} and <{np_maxversion}\"\n"
     ]
    }
   ],
   "source": [
    "from fastai.vision.all import *\n",
    "from fastai.tabular.all import *\n",
    "from sklearn.model_selection import train_test_split\n",
    "import gc\n",
    "\n",
    "import os\n",
    "set_seed(42)"
   ]
  },
  {
   "cell_type": "code",
   "execution_count": 2,
   "id": "48c97c4e",
   "metadata": {
    "execution": {
     "iopub.execute_input": "2023-11-03T14:42:05.258706Z",
     "iopub.status.busy": "2023-11-03T14:42:05.257954Z",
     "iopub.status.idle": "2023-11-03T14:42:05.267800Z",
     "shell.execute_reply": "2023-11-03T14:42:05.266504Z"
    },
    "papermill": {
     "duration": 0.018962,
     "end_time": "2023-11-03T14:42:05.270222",
     "exception": false,
     "start_time": "2023-11-03T14:42:05.251260",
     "status": "completed"
    },
    "tags": []
   },
   "outputs": [
    {
     "data": {
      "text/plain": [
       "'\\n------------- TRAIN IMG SIZES -------------\\n(640, 480)      15247\\n(320, 240)       5983\\n(3264, 2448)     1388\\n(3952, 1872)     1142\\n(4160, 3120)      590\\n(2592, 1944)      423\\n(153, 204)        279\\n(4128, 1952)      111\\n(2576, 1932)      111\\n(4608, 3456)      111\\n(3840, 2160)      106\\n(3456, 3456)      104\\n(256, 144)         88\\n(204, 153)         72\\n(3968, 2976)       69\\n(4160, 1872)       39\\n(240, 320)         29\\n(2560, 1920)       27\\n(260, 195)         27\\n(195, 260)         24\\n(3264, 1836)       16\\n(194, 194)         16\\n(4000, 1800)       12\\n(186, 248)          8\\n(204, 102)          8\\n(4128, 3096)        6\\n(4000, 3000)        4\\n(160, 120)          4\\n(122, 162)          3\\n(120, 160)          3\\n(162, 121)          3\\n(192, 144)          2\\n(3120, 4160)        2\\n(117, 260)          2\\n(248, 186)          2\\n(256, 192)          2\\n(150, 200)          1\\n(121, 161)          1\\n(216, 216)          1\\n(1600, 1200)        1\\n(120, 120)          1\\n\\n\\n------------- TEST IMG SIZES -------------\\n(640, 480)      5126\\n(320, 240)      1938\\n(3264, 2448)     440\\n(3952, 1872)     389\\n(4160, 3120)     192\\n(2592, 1944)     142\\n(153, 204)       102\\n(2576, 1932)      46\\n(4128, 1952)      41\\n(3456, 3456)      40\\n(3840, 2160)      31\\n(4608, 3456)      31\\n(3968, 2976)      27\\n(256, 144)        20\\n(204, 153)        19\\n(240, 320)        13\\n(4160, 1872)      12\\n(260, 195)         8\\n(2560, 1920)       8\\n(3264, 1836)       6\\n(194, 194)         5\\n(195, 260)         4\\n(186, 248)         3\\n(160, 120)         3\\n(204, 102)         2\\n(121, 162)         2\\n(120, 160)         2\\n(102, 204)         1\\n(120, 120)         1\\n(4000, 1800)       1\\n(4128, 3096)       1\\n(117, 260)         1\\n(122, 162)         1\\n(4000, 3000)       1\\n(256, 192)         1\\n(216, 216)         1\\n(1600, 1200)       1\\n(150, 200)         1\\n'"
      ]
     },
     "execution_count": 2,
     "metadata": {},
     "output_type": "execute_result"
    }
   ],
   "source": [
    "'''\n",
    "------------- TRAIN IMG SIZES -------------\n",
    "(640, 480)      15247\n",
    "(320, 240)       5983\n",
    "(3264, 2448)     1388\n",
    "(3952, 1872)     1142\n",
    "(4160, 3120)      590\n",
    "(2592, 1944)      423\n",
    "(153, 204)        279\n",
    "(4128, 1952)      111\n",
    "(2576, 1932)      111\n",
    "(4608, 3456)      111\n",
    "(3840, 2160)      106\n",
    "(3456, 3456)      104\n",
    "(256, 144)         88\n",
    "(204, 153)         72\n",
    "(3968, 2976)       69\n",
    "(4160, 1872)       39\n",
    "(240, 320)         29\n",
    "(2560, 1920)       27\n",
    "(260, 195)         27\n",
    "(195, 260)         24\n",
    "(3264, 1836)       16\n",
    "(194, 194)         16\n",
    "(4000, 1800)       12\n",
    "(186, 248)          8\n",
    "(204, 102)          8\n",
    "(4128, 3096)        6\n",
    "(4000, 3000)        4\n",
    "(160, 120)          4\n",
    "(122, 162)          3\n",
    "(120, 160)          3\n",
    "(162, 121)          3\n",
    "(192, 144)          2\n",
    "(3120, 4160)        2\n",
    "(117, 260)          2\n",
    "(248, 186)          2\n",
    "(256, 192)          2\n",
    "(150, 200)          1\n",
    "(121, 161)          1\n",
    "(216, 216)          1\n",
    "(1600, 1200)        1\n",
    "(120, 120)          1\n",
    "\n",
    "\n",
    "------------- TEST IMG SIZES -------------\n",
    "(640, 480)      5126\n",
    "(320, 240)      1938\n",
    "(3264, 2448)     440\n",
    "(3952, 1872)     389\n",
    "(4160, 3120)     192\n",
    "(2592, 1944)     142\n",
    "(153, 204)       102\n",
    "(2576, 1932)      46\n",
    "(4128, 1952)      41\n",
    "(3456, 3456)      40\n",
    "(3840, 2160)      31\n",
    "(4608, 3456)      31\n",
    "(3968, 2976)      27\n",
    "(256, 144)        20\n",
    "(204, 153)        19\n",
    "(240, 320)        13\n",
    "(4160, 1872)      12\n",
    "(260, 195)         8\n",
    "(2560, 1920)       8\n",
    "(3264, 1836)       6\n",
    "(194, 194)         5\n",
    "(195, 260)         4\n",
    "(186, 248)         3\n",
    "(160, 120)         3\n",
    "(204, 102)         2\n",
    "(121, 162)         2\n",
    "(120, 160)         2\n",
    "(102, 204)         1\n",
    "(120, 120)         1\n",
    "(4000, 1800)       1\n",
    "(4128, 3096)       1\n",
    "(117, 260)         1\n",
    "(122, 162)         1\n",
    "(4000, 3000)       1\n",
    "(256, 192)         1\n",
    "(216, 216)         1\n",
    "(1600, 1200)       1\n",
    "(150, 200)         1\n",
    "'''"
   ]
  },
  {
   "cell_type": "code",
   "execution_count": 3,
   "id": "c2abd8e2",
   "metadata": {
    "execution": {
     "iopub.execute_input": "2023-11-03T14:42:05.283454Z",
     "iopub.status.busy": "2023-11-03T14:42:05.282664Z",
     "iopub.status.idle": "2023-11-03T14:42:05.425320Z",
     "shell.execute_reply": "2023-11-03T14:42:05.424257Z"
    },
    "papermill": {
     "duration": 0.151271,
     "end_time": "2023-11-03T14:42:05.427388",
     "exception": false,
     "start_time": "2023-11-03T14:42:05.276117",
     "status": "completed"
    },
    "tags": []
   },
   "outputs": [
    {
     "data": {
      "text/html": [
       "<div>\n",
       "<style scoped>\n",
       "    .dataframe tbody tr th:only-of-type {\n",
       "        vertical-align: middle;\n",
       "    }\n",
       "\n",
       "    .dataframe tbody tr th {\n",
       "        vertical-align: top;\n",
       "    }\n",
       "\n",
       "    .dataframe thead th {\n",
       "        text-align: right;\n",
       "    }\n",
       "</style>\n",
       "<table border=\"1\" class=\"dataframe\">\n",
       "  <thead>\n",
       "    <tr style=\"text-align: right;\">\n",
       "      <th></th>\n",
       "      <th>ID</th>\n",
       "      <th>filename</th>\n",
       "      <th>growth_stage</th>\n",
       "      <th>damage</th>\n",
       "      <th>extent</th>\n",
       "      <th>season</th>\n",
       "    </tr>\n",
       "  </thead>\n",
       "  <tbody>\n",
       "    <tr>\n",
       "      <th>0</th>\n",
       "      <td>ID_1S8OOWQYCB</td>\n",
       "      <td>L427F01330C01S03961Rp02052.jpg</td>\n",
       "      <td>S</td>\n",
       "      <td>WD</td>\n",
       "      <td>0</td>\n",
       "      <td>SR2020</td>\n",
       "    </tr>\n",
       "    <tr>\n",
       "      <th>1</th>\n",
       "      <td>ID_0MD959MIZ0</td>\n",
       "      <td>L1083F00930C39S12674Ip.jpg</td>\n",
       "      <td>V</td>\n",
       "      <td>G</td>\n",
       "      <td>0</td>\n",
       "      <td>SR2021</td>\n",
       "    </tr>\n",
       "    <tr>\n",
       "      <th>2</th>\n",
       "      <td>ID_JRJCI4Q11V</td>\n",
       "      <td>24_initial_1_1463_1463.JPG</td>\n",
       "      <td>V</td>\n",
       "      <td>G</td>\n",
       "      <td>0</td>\n",
       "      <td>LR2020</td>\n",
       "    </tr>\n",
       "    <tr>\n",
       "      <th>3</th>\n",
       "      <td>ID_DBO3ZGI1GM</td>\n",
       "      <td>L341F00167C01S00324Rp14178.jpg</td>\n",
       "      <td>M</td>\n",
       "      <td>DR</td>\n",
       "      <td>60</td>\n",
       "      <td>SR2020</td>\n",
       "    </tr>\n",
       "    <tr>\n",
       "      <th>4</th>\n",
       "      <td>ID_ORZLWTEUUS</td>\n",
       "      <td>L1084F02394C39S13931Ip.jpg</td>\n",
       "      <td>V</td>\n",
       "      <td>G</td>\n",
       "      <td>0</td>\n",
       "      <td>SR2021</td>\n",
       "    </tr>\n",
       "    <tr>\n",
       "      <th>...</th>\n",
       "      <td>...</td>\n",
       "      <td>...</td>\n",
       "      <td>...</td>\n",
       "      <td>...</td>\n",
       "      <td>...</td>\n",
       "      <td>...</td>\n",
       "    </tr>\n",
       "    <tr>\n",
       "      <th>26063</th>\n",
       "      <td>ID_3II1SXC0ZO</td>\n",
       "      <td>L1084F03259C39S12149Rp41671.jpg</td>\n",
       "      <td>M</td>\n",
       "      <td>DR</td>\n",
       "      <td>30</td>\n",
       "      <td>SR2021</td>\n",
       "    </tr>\n",
       "    <tr>\n",
       "      <th>26064</th>\n",
       "      <td>ID_OE7OU9ZF4U</td>\n",
       "      <td>L406F04369C01S07190Rp22847.jpg</td>\n",
       "      <td>V</td>\n",
       "      <td>G</td>\n",
       "      <td>0</td>\n",
       "      <td>LR2021</td>\n",
       "    </tr>\n",
       "    <tr>\n",
       "      <th>26065</th>\n",
       "      <td>ID_20M531UIZZ</td>\n",
       "      <td>L134F00766C01S09784Rp26034.jpg</td>\n",
       "      <td>M</td>\n",
       "      <td>G</td>\n",
       "      <td>0</td>\n",
       "      <td>LR2021</td>\n",
       "    </tr>\n",
       "    <tr>\n",
       "      <th>26066</th>\n",
       "      <td>ID_BZBV2FH0KL</td>\n",
       "      <td>L1153F02464C01S00194Rp01561.jpg</td>\n",
       "      <td>F</td>\n",
       "      <td>G</td>\n",
       "      <td>0</td>\n",
       "      <td>SR2020</td>\n",
       "    </tr>\n",
       "    <tr>\n",
       "      <th>26067</th>\n",
       "      <td>ID_ZVBF61EA0I</td>\n",
       "      <td>L406F00362C01S00614Rp06760.jpg</td>\n",
       "      <td>V</td>\n",
       "      <td>G</td>\n",
       "      <td>0</td>\n",
       "      <td>SR2020</td>\n",
       "    </tr>\n",
       "  </tbody>\n",
       "</table>\n",
       "<p>26068 rows × 6 columns</p>\n",
       "</div>"
      ],
      "text/plain": [
       "                  ID                         filename growth_stage damage  \\\n",
       "0      ID_1S8OOWQYCB   L427F01330C01S03961Rp02052.jpg            S     WD   \n",
       "1      ID_0MD959MIZ0       L1083F00930C39S12674Ip.jpg            V      G   \n",
       "2      ID_JRJCI4Q11V       24_initial_1_1463_1463.JPG            V      G   \n",
       "3      ID_DBO3ZGI1GM   L341F00167C01S00324Rp14178.jpg            M     DR   \n",
       "4      ID_ORZLWTEUUS       L1084F02394C39S13931Ip.jpg            V      G   \n",
       "...              ...                              ...          ...    ...   \n",
       "26063  ID_3II1SXC0ZO  L1084F03259C39S12149Rp41671.jpg            M     DR   \n",
       "26064  ID_OE7OU9ZF4U   L406F04369C01S07190Rp22847.jpg            V      G   \n",
       "26065  ID_20M531UIZZ   L134F00766C01S09784Rp26034.jpg            M      G   \n",
       "26066  ID_BZBV2FH0KL  L1153F02464C01S00194Rp01561.jpg            F      G   \n",
       "26067  ID_ZVBF61EA0I   L406F00362C01S00614Rp06760.jpg            V      G   \n",
       "\n",
       "       extent  season  \n",
       "0           0  SR2020  \n",
       "1           0  SR2021  \n",
       "2           0  LR2020  \n",
       "3          60  SR2020  \n",
       "4           0  SR2021  \n",
       "...       ...     ...  \n",
       "26063      30  SR2021  \n",
       "26064       0  LR2021  \n",
       "26065       0  LR2021  \n",
       "26066       0  SR2020  \n",
       "26067       0  SR2020  \n",
       "\n",
       "[26068 rows x 6 columns]"
      ]
     },
     "execution_count": 3,
     "metadata": {},
     "output_type": "execute_result"
    }
   ],
   "source": [
    "df       = pd.read_csv('/kaggle/input/cgiar-eyes-on-the-ground-challenge/Train.csv')\n",
    "test_df  = pd.read_csv('/kaggle/input/cgiar-eyes-on-the-ground-challenge/Test.csv')\n",
    "df"
   ]
  },
  {
   "cell_type": "code",
   "execution_count": 4,
   "id": "6b815a05",
   "metadata": {
    "execution": {
     "iopub.execute_input": "2023-11-03T14:42:05.439990Z",
     "iopub.status.busy": "2023-11-03T14:42:05.439672Z",
     "iopub.status.idle": "2023-11-03T14:42:05.484845Z",
     "shell.execute_reply": "2023-11-03T14:42:05.484145Z"
    },
    "papermill": {
     "duration": 0.053639,
     "end_time": "2023-11-03T14:42:05.486879",
     "exception": false,
     "start_time": "2023-11-03T14:42:05.433240",
     "status": "completed"
    },
    "tags": []
   },
   "outputs": [],
   "source": [
    "stratify_by = df['season']\n",
    "train_df, valid_df = train_test_split(df, test_size=0.2, stratify=stratify_by, random_state=42)"
   ]
  },
  {
   "cell_type": "code",
   "execution_count": 5,
   "id": "dbce499f",
   "metadata": {
    "execution": {
     "iopub.execute_input": "2023-11-03T14:42:05.499455Z",
     "iopub.status.busy": "2023-11-03T14:42:05.499171Z",
     "iopub.status.idle": "2023-11-03T14:42:05.511493Z",
     "shell.execute_reply": "2023-11-03T14:42:05.510685Z"
    },
    "papermill": {
     "duration": 0.020804,
     "end_time": "2023-11-03T14:42:05.513369",
     "exception": false,
     "start_time": "2023-11-03T14:42:05.492565",
     "status": "completed"
    },
    "tags": []
   },
   "outputs": [
    {
     "data": {
      "text/plain": [
       "(3622, 17232, 888, 4326)"
      ]
     },
     "execution_count": 5,
     "metadata": {},
     "output_type": "execute_result"
    }
   ],
   "source": [
    "train_df[train_df['extent']!=0].shape[0], train_df[train_df['extent']==0].shape[0], valid_df[valid_df['extent']!=0].shape[0], valid_df[valid_df['extent']==0].shape[0]"
   ]
  },
  {
   "cell_type": "code",
   "execution_count": 6,
   "id": "2b620737",
   "metadata": {
    "execution": {
     "iopub.execute_input": "2023-11-03T14:42:05.525945Z",
     "iopub.status.busy": "2023-11-03T14:42:05.525654Z",
     "iopub.status.idle": "2023-11-03T14:42:05.543361Z",
     "shell.execute_reply": "2023-11-03T14:42:05.542601Z"
    },
    "papermill": {
     "duration": 0.026381,
     "end_time": "2023-11-03T14:42:05.545430",
     "exception": false,
     "start_time": "2023-11-03T14:42:05.519049",
     "status": "completed"
    },
    "tags": []
   },
   "outputs": [
    {
     "data": {
      "text/plain": [
       "(7244, 17232, 888, 4326)"
      ]
     },
     "execution_count": 6,
     "metadata": {},
     "output_type": "execute_result"
    }
   ],
   "source": [
    "train_df = pd.concat([train_df, train_df[train_df['extent']!=0]])\n",
    "\n",
    "train_df[train_df['extent']!=0].shape[0], train_df[train_df['extent']==0].shape[0], valid_df[valid_df['extent']!=0].shape[0], valid_df[valid_df['extent']==0].shape[0]"
   ]
  },
  {
   "cell_type": "code",
   "execution_count": 7,
   "id": "6ab156b1",
   "metadata": {
    "execution": {
     "iopub.execute_input": "2023-11-03T14:42:05.558427Z",
     "iopub.status.busy": "2023-11-03T14:42:05.558167Z",
     "iopub.status.idle": "2023-11-03T14:42:05.572734Z",
     "shell.execute_reply": "2023-11-03T14:42:05.571999Z"
    },
    "papermill": {
     "duration": 0.023325,
     "end_time": "2023-11-03T14:42:05.574618",
     "exception": false,
     "start_time": "2023-11-03T14:42:05.551293",
     "status": "completed"
    },
    "tags": []
   },
   "outputs": [
    {
     "data": {
      "text/plain": [
       "(14488, 17232, 888, 4326)"
      ]
     },
     "execution_count": 7,
     "metadata": {},
     "output_type": "execute_result"
    }
   ],
   "source": [
    "train_df = pd.concat([train_df, train_df[train_df['extent']!=0]])\n",
    "\n",
    "train_df[train_df['extent']!=0].shape[0], train_df[train_df['extent']==0].shape[0], valid_df[valid_df['extent']!=0].shape[0], valid_df[valid_df['extent']==0].shape[0]"
   ]
  },
  {
   "cell_type": "code",
   "execution_count": 8,
   "id": "b94fdaf3",
   "metadata": {
    "execution": {
     "iopub.execute_input": "2023-11-03T14:42:05.588264Z",
     "iopub.status.busy": "2023-11-03T14:42:05.587558Z",
     "iopub.status.idle": "2023-11-03T14:42:05.598724Z",
     "shell.execute_reply": "2023-11-03T14:42:05.598070Z"
    },
    "papermill": {
     "duration": 0.020184,
     "end_time": "2023-11-03T14:42:05.600726",
     "exception": false,
     "start_time": "2023-11-03T14:42:05.580542",
     "status": "completed"
    },
    "tags": []
   },
   "outputs": [],
   "source": [
    "import time\n",
    "from fastai.callback.core import Callback\n",
    "\n",
    "class TimeLimitCallback(Callback):\n",
    "    def __init__(self, time_limit_hours):\n",
    "        self.time_limit = time_limit_hours * 3600  # Convert hours to seconds\n",
    "        self.start_time = time.time()\n",
    "\n",
    "    def before_epoch(self):\n",
    "        elapsed_time = time.time() - self.start_time\n",
    "        if elapsed_time > self.time_limit:\n",
    "            print(f\"Training exceeded time limit of {self.time_limit / 3600} hours. Stopping training.\")\n",
    "            raise TimeLimitExceededException(\"Training exceeded time limit.\")\n",
    "            self.learn.stop = True  # Stop the training \n",
    "            \n",
    "            \n",
    "class TimeLimitExceededException(Exception):\n",
    "    pass\n",
    "\n",
    "def train(arch, size, item=Resize(480), finetune=True, epochs=15):\n",
    "    time_limit_cb = TimeLimitCallback(time_limit_hours=7.5)\n",
    "    dblock = DataBlock(blocks=(ImageBlock, RegressionBlock(n_out=1)),\n",
    "               get_x=ColReader('filename', pref='/kaggle/input/cgiar-eyes-on-the-ground-challenge/content/content/train/'),\n",
    "               get_y=ColReader('extent'),\n",
    "               #splitter=RandomSplitter(valid_pct=0.1, seed=42),\n",
    "               item_tfms=item,\n",
    "               batch_tfms=aug_transforms(size=size, min_scale=0.75))\n",
    "\n",
    "    # Create the data loaders\n",
    "    dls = dblock.dataloaders(df)\n",
    "\n",
    "    try:\n",
    "        learn = vision_learner(dls, arch, metrics=rmse, cbs = [time_limit_cb]).to_fp16()\n",
    "        if finetune:\n",
    "            learn.fine_tune(epochs, 0.01)\n",
    "            return learn.tta(dl=learn.dls.test_dl('/kaggle/input/cgiar-eyes-on-the-ground-challenge/content/content/test/' + test_df['filename']))\n",
    "        else:\n",
    "            learn.unfreeze()\n",
    "            learn.fit_one_cycle(epochs, 0.01)\n",
    "            return learn.tta(dl=learn.dls.test_dl('/kaggle/input/cgiar-eyes-on-the-ground-challenge/content/content/test/' + test_df['filename']))\n",
    "    except TimeLimitExceededException:\n",
    "        pass  # Handle the exception or perform any necessary cleanup here\n",
    "    "
   ]
  },
  {
   "cell_type": "code",
   "execution_count": 9,
   "id": "330e5452",
   "metadata": {
    "execution": {
     "iopub.execute_input": "2023-11-03T14:42:05.614211Z",
     "iopub.status.busy": "2023-11-03T14:42:05.613654Z",
     "iopub.status.idle": "2023-11-03T14:42:05.617513Z",
     "shell.execute_reply": "2023-11-03T14:42:05.616603Z"
    },
    "papermill": {
     "duration": 0.01232,
     "end_time": "2023-11-03T14:42:05.619341",
     "exception": false,
     "start_time": "2023-11-03T14:42:05.607021",
     "status": "completed"
    },
    "tags": []
   },
   "outputs": [],
   "source": [
    "res = 640,480"
   ]
  },
  {
   "cell_type": "code",
   "execution_count": 10,
   "id": "ddebde98",
   "metadata": {
    "execution": {
     "iopub.execute_input": "2023-11-03T14:42:05.632327Z",
     "iopub.status.busy": "2023-11-03T14:42:05.632070Z",
     "iopub.status.idle": "2023-11-03T14:42:05.636439Z",
     "shell.execute_reply": "2023-11-03T14:42:05.635555Z"
    },
    "papermill": {
     "duration": 0.012748,
     "end_time": "2023-11-03T14:42:05.638234",
     "exception": false,
     "start_time": "2023-11-03T14:42:05.625486",
     "status": "completed"
    },
    "tags": []
   },
   "outputs": [],
   "source": [
    "models = {\n",
    "    'convnext_small_in22k': {\n",
    "        (Resize(320,240), (224,224)),\n",
    "    }, 'vit_small_patch16_224': {\n",
    "        (Resize(320), 224),\n",
    "     #   (Resize(480,320), 224),\n",
    "    }\n",
    "}"
   ]
  },
  {
   "cell_type": "code",
   "execution_count": 11,
   "id": "98ef34bc",
   "metadata": {
    "execution": {
     "iopub.execute_input": "2023-11-03T14:42:05.651091Z",
     "iopub.status.busy": "2023-11-03T14:42:05.650795Z",
     "iopub.status.idle": "2023-11-03T20:24:54.727265Z",
     "shell.execute_reply": "2023-11-03T20:24:54.725892Z"
    },
    "papermill": {
     "duration": 20569.085438,
     "end_time": "2023-11-03T20:24:54.729566",
     "exception": false,
     "start_time": "2023-11-03T14:42:05.644128",
     "status": "completed"
    },
    "tags": []
   },
   "outputs": [
    {
     "name": "stdout",
     "output_type": "stream",
     "text": [
      "--- convnext_small_in22k\n",
      "(224, 224)\n",
      "Resize -- {'size': (320, 320), 'method': 240, 'pad_mode': 'reflection', 'resamples': (<Resampling.BILINEAR: 2>, <Resampling.NEAREST: 0>), 'p': 1.0}\n"
     ]
    },
    {
     "name": "stderr",
     "output_type": "stream",
     "text": [
      "/opt/conda/lib/python3.10/site-packages/timm/models/_factory.py:114: UserWarning: Mapping deprecated model name convnext_small_in22k to current convnext_small.fb_in22k.\n",
      "  model = create_fn(\n"
     ]
    },
    {
     "data": {
      "application/vnd.jupyter.widget-view+json": {
       "model_id": "1d1427f55d9e4b4b9fb0f1d423b3b077",
       "version_major": 2,
       "version_minor": 0
      },
      "text/plain": [
       "Downloading model.safetensors:   0%|          | 0.00/265M [00:00<?, ?B/s]"
      ]
     },
     "metadata": {},
     "output_type": "display_data"
    },
    {
     "data": {
      "text/html": [
       "\n",
       "<style>\n",
       "    /* Turns off some styling */\n",
       "    progress {\n",
       "        /* gets rid of default border in Firefox and Opera. */\n",
       "        border: none;\n",
       "        /* Needs to be in here for Safari polyfill so background images work as expected. */\n",
       "        background-size: auto;\n",
       "    }\n",
       "    progress:not([value]), progress:not([value])::-webkit-progress-bar {\n",
       "        background: repeating-linear-gradient(45deg, #7e7e7e, #7e7e7e 10px, #5c5c5c 10px, #5c5c5c 20px);\n",
       "    }\n",
       "    .progress-bar-interrupted, .progress-bar-interrupted::-webkit-progress-bar {\n",
       "        background: #F44336;\n",
       "    }\n",
       "</style>\n"
      ],
      "text/plain": [
       "<IPython.core.display.HTML object>"
      ]
     },
     "metadata": {},
     "output_type": "display_data"
    },
    {
     "data": {
      "text/html": [
       "<table border=\"1\" class=\"dataframe\">\n",
       "  <thead>\n",
       "    <tr style=\"text-align: left;\">\n",
       "      <th>epoch</th>\n",
       "      <th>train_loss</th>\n",
       "      <th>valid_loss</th>\n",
       "      <th>_rmse</th>\n",
       "      <th>time</th>\n",
       "    </tr>\n",
       "  </thead>\n",
       "  <tbody>\n",
       "    <tr>\n",
       "      <td>0</td>\n",
       "      <td>169.520020</td>\n",
       "      <td>157.191269</td>\n",
       "      <td>12.537594</td>\n",
       "      <td>12:54</td>\n",
       "    </tr>\n",
       "  </tbody>\n",
       "</table>"
      ],
      "text/plain": [
       "<IPython.core.display.HTML object>"
      ]
     },
     "metadata": {},
     "output_type": "display_data"
    },
    {
     "data": {
      "text/html": [
       "\n",
       "<style>\n",
       "    /* Turns off some styling */\n",
       "    progress {\n",
       "        /* gets rid of default border in Firefox and Opera. */\n",
       "        border: none;\n",
       "        /* Needs to be in here for Safari polyfill so background images work as expected. */\n",
       "        background-size: auto;\n",
       "    }\n",
       "    progress:not([value]), progress:not([value])::-webkit-progress-bar {\n",
       "        background: repeating-linear-gradient(45deg, #7e7e7e, #7e7e7e 10px, #5c5c5c 10px, #5c5c5c 20px);\n",
       "    }\n",
       "    .progress-bar-interrupted, .progress-bar-interrupted::-webkit-progress-bar {\n",
       "        background: #F44336;\n",
       "    }\n",
       "</style>\n"
      ],
      "text/plain": [
       "<IPython.core.display.HTML object>"
      ]
     },
     "metadata": {},
     "output_type": "display_data"
    },
    {
     "data": {
      "text/html": [
       "<table border=\"1\" class=\"dataframe\">\n",
       "  <thead>\n",
       "    <tr style=\"text-align: left;\">\n",
       "      <th>epoch</th>\n",
       "      <th>train_loss</th>\n",
       "      <th>valid_loss</th>\n",
       "      <th>_rmse</th>\n",
       "      <th>time</th>\n",
       "    </tr>\n",
       "  </thead>\n",
       "  <tbody>\n",
       "    <tr>\n",
       "      <td>0</td>\n",
       "      <td>146.635864</td>\n",
       "      <td>140.081863</td>\n",
       "      <td>11.835618</td>\n",
       "      <td>14:04</td>\n",
       "    </tr>\n",
       "    <tr>\n",
       "      <td>1</td>\n",
       "      <td>140.164001</td>\n",
       "      <td>129.603546</td>\n",
       "      <td>11.384356</td>\n",
       "      <td>14:06</td>\n",
       "    </tr>\n",
       "    <tr>\n",
       "      <td>2</td>\n",
       "      <td>127.111168</td>\n",
       "      <td>123.518463</td>\n",
       "      <td>11.113885</td>\n",
       "      <td>14:38</td>\n",
       "    </tr>\n",
       "    <tr>\n",
       "      <td>3</td>\n",
       "      <td>133.356476</td>\n",
       "      <td>133.203201</td>\n",
       "      <td>11.541369</td>\n",
       "      <td>14:48</td>\n",
       "    </tr>\n",
       "    <tr>\n",
       "      <td>4</td>\n",
       "      <td>125.021111</td>\n",
       "      <td>140.108597</td>\n",
       "      <td>11.836748</td>\n",
       "      <td>14:08</td>\n",
       "    </tr>\n",
       "    <tr>\n",
       "      <td>5</td>\n",
       "      <td>97.158394</td>\n",
       "      <td>121.252419</td>\n",
       "      <td>11.011469</td>\n",
       "      <td>14:03</td>\n",
       "    </tr>\n",
       "    <tr>\n",
       "      <td>6</td>\n",
       "      <td>90.998459</td>\n",
       "      <td>124.921036</td>\n",
       "      <td>11.176808</td>\n",
       "      <td>14:06</td>\n",
       "    </tr>\n",
       "    <tr>\n",
       "      <td>7</td>\n",
       "      <td>72.828285</td>\n",
       "      <td>125.097572</td>\n",
       "      <td>11.184703</td>\n",
       "      <td>14:05</td>\n",
       "    </tr>\n",
       "    <tr>\n",
       "      <td>8</td>\n",
       "      <td>68.170876</td>\n",
       "      <td>125.830414</td>\n",
       "      <td>11.217413</td>\n",
       "      <td>14:05</td>\n",
       "    </tr>\n",
       "    <tr>\n",
       "      <td>9</td>\n",
       "      <td>55.899326</td>\n",
       "      <td>126.326477</td>\n",
       "      <td>11.239505</td>\n",
       "      <td>14:07</td>\n",
       "    </tr>\n",
       "    <tr>\n",
       "      <td>10</td>\n",
       "      <td>46.362499</td>\n",
       "      <td>120.826950</td>\n",
       "      <td>10.992131</td>\n",
       "      <td>14:07</td>\n",
       "    </tr>\n",
       "    <tr>\n",
       "      <td>11</td>\n",
       "      <td>44.166004</td>\n",
       "      <td>121.692307</td>\n",
       "      <td>11.031425</td>\n",
       "      <td>14:05</td>\n",
       "    </tr>\n",
       "    <tr>\n",
       "      <td>12</td>\n",
       "      <td>36.030624</td>\n",
       "      <td>123.715431</td>\n",
       "      <td>11.122744</td>\n",
       "      <td>14:04</td>\n",
       "    </tr>\n",
       "    <tr>\n",
       "      <td>13</td>\n",
       "      <td>34.543766</td>\n",
       "      <td>121.906616</td>\n",
       "      <td>11.041134</td>\n",
       "      <td>14:04</td>\n",
       "    </tr>\n",
       "    <tr>\n",
       "      <td>14</td>\n",
       "      <td>35.003834</td>\n",
       "      <td>121.780342</td>\n",
       "      <td>11.035415</td>\n",
       "      <td>14:02</td>\n",
       "    </tr>\n",
       "  </tbody>\n",
       "</table>"
      ],
      "text/plain": [
       "<IPython.core.display.HTML object>"
      ]
     },
     "metadata": {},
     "output_type": "display_data"
    },
    {
     "data": {
      "text/html": [
       "\n",
       "<style>\n",
       "    /* Turns off some styling */\n",
       "    progress {\n",
       "        /* gets rid of default border in Firefox and Opera. */\n",
       "        border: none;\n",
       "        /* Needs to be in here for Safari polyfill so background images work as expected. */\n",
       "        background-size: auto;\n",
       "    }\n",
       "    progress:not([value]), progress:not([value])::-webkit-progress-bar {\n",
       "        background: repeating-linear-gradient(45deg, #7e7e7e, #7e7e7e 10px, #5c5c5c 10px, #5c5c5c 20px);\n",
       "    }\n",
       "    .progress-bar-interrupted, .progress-bar-interrupted::-webkit-progress-bar {\n",
       "        background: #F44336;\n",
       "    }\n",
       "</style>\n"
      ],
      "text/plain": [
       "<IPython.core.display.HTML object>"
      ]
     },
     "metadata": {},
     "output_type": "display_data"
    },
    {
     "data": {
      "text/html": [
       "\n",
       "    <div>\n",
       "      <progress value='0' class='' max='15' style='width:300px; height:20px; vertical-align: middle;'></progress>\n",
       "      \n",
       "    </div>\n",
       "    \n"
      ],
      "text/plain": [
       "<IPython.core.display.HTML object>"
      ]
     },
     "metadata": {},
     "output_type": "display_data"
    },
    {
     "data": {
      "text/html": [
       "\n",
       "<style>\n",
       "    /* Turns off some styling */\n",
       "    progress {\n",
       "        /* gets rid of default border in Firefox and Opera. */\n",
       "        border: none;\n",
       "        /* Needs to be in here for Safari polyfill so background images work as expected. */\n",
       "        background-size: auto;\n",
       "    }\n",
       "    progress:not([value]), progress:not([value])::-webkit-progress-bar {\n",
       "        background: repeating-linear-gradient(45deg, #7e7e7e, #7e7e7e 10px, #5c5c5c 10px, #5c5c5c 20px);\n",
       "    }\n",
       "    .progress-bar-interrupted, .progress-bar-interrupted::-webkit-progress-bar {\n",
       "        background: #F44336;\n",
       "    }\n",
       "</style>\n"
      ],
      "text/plain": [
       "<IPython.core.display.HTML object>"
      ]
     },
     "metadata": {},
     "output_type": "display_data"
    },
    {
     "data": {
      "text/html": [],
      "text/plain": [
       "<IPython.core.display.HTML object>"
      ]
     },
     "metadata": {},
     "output_type": "display_data"
    },
    {
     "name": "stdout",
     "output_type": "stream",
     "text": [
      "--- vit_small_patch16_224\n",
      "224\n",
      "Resize -- {'size': (320, 320), 'method': 'crop', 'pad_mode': 'reflection', 'resamples': (<Resampling.BILINEAR: 2>, <Resampling.NEAREST: 0>), 'p': 1.0}\n"
     ]
    },
    {
     "data": {
      "application/vnd.jupyter.widget-view+json": {
       "model_id": "74a12af3a32245afb143fbdb9b41fbfc",
       "version_major": 2,
       "version_minor": 0
      },
      "text/plain": [
       "Downloading model.safetensors:   0%|          | 0.00/88.2M [00:00<?, ?B/s]"
      ]
     },
     "metadata": {},
     "output_type": "display_data"
    },
    {
     "data": {
      "text/html": [
       "\n",
       "<style>\n",
       "    /* Turns off some styling */\n",
       "    progress {\n",
       "        /* gets rid of default border in Firefox and Opera. */\n",
       "        border: none;\n",
       "        /* Needs to be in here for Safari polyfill so background images work as expected. */\n",
       "        background-size: auto;\n",
       "    }\n",
       "    progress:not([value]), progress:not([value])::-webkit-progress-bar {\n",
       "        background: repeating-linear-gradient(45deg, #7e7e7e, #7e7e7e 10px, #5c5c5c 10px, #5c5c5c 20px);\n",
       "    }\n",
       "    .progress-bar-interrupted, .progress-bar-interrupted::-webkit-progress-bar {\n",
       "        background: #F44336;\n",
       "    }\n",
       "</style>\n"
      ],
      "text/plain": [
       "<IPython.core.display.HTML object>"
      ]
     },
     "metadata": {},
     "output_type": "display_data"
    },
    {
     "data": {
      "text/html": [
       "<table border=\"1\" class=\"dataframe\">\n",
       "  <thead>\n",
       "    <tr style=\"text-align: left;\">\n",
       "      <th>epoch</th>\n",
       "      <th>train_loss</th>\n",
       "      <th>valid_loss</th>\n",
       "      <th>_rmse</th>\n",
       "      <th>time</th>\n",
       "    </tr>\n",
       "  </thead>\n",
       "  <tbody>\n",
       "    <tr>\n",
       "      <td>0</td>\n",
       "      <td>164.793777</td>\n",
       "      <td>156.343140</td>\n",
       "      <td>12.503726</td>\n",
       "      <td>05:59</td>\n",
       "    </tr>\n",
       "  </tbody>\n",
       "</table>"
      ],
      "text/plain": [
       "<IPython.core.display.HTML object>"
      ]
     },
     "metadata": {},
     "output_type": "display_data"
    },
    {
     "data": {
      "text/html": [
       "\n",
       "<style>\n",
       "    /* Turns off some styling */\n",
       "    progress {\n",
       "        /* gets rid of default border in Firefox and Opera. */\n",
       "        border: none;\n",
       "        /* Needs to be in here for Safari polyfill so background images work as expected. */\n",
       "        background-size: auto;\n",
       "    }\n",
       "    progress:not([value]), progress:not([value])::-webkit-progress-bar {\n",
       "        background: repeating-linear-gradient(45deg, #7e7e7e, #7e7e7e 10px, #5c5c5c 10px, #5c5c5c 20px);\n",
       "    }\n",
       "    .progress-bar-interrupted, .progress-bar-interrupted::-webkit-progress-bar {\n",
       "        background: #F44336;\n",
       "    }\n",
       "</style>\n"
      ],
      "text/plain": [
       "<IPython.core.display.HTML object>"
      ]
     },
     "metadata": {},
     "output_type": "display_data"
    },
    {
     "data": {
      "text/html": [
       "<table border=\"1\" class=\"dataframe\">\n",
       "  <thead>\n",
       "    <tr style=\"text-align: left;\">\n",
       "      <th>epoch</th>\n",
       "      <th>train_loss</th>\n",
       "      <th>valid_loss</th>\n",
       "      <th>_rmse</th>\n",
       "      <th>time</th>\n",
       "    </tr>\n",
       "  </thead>\n",
       "  <tbody>\n",
       "    <tr>\n",
       "      <td>0</td>\n",
       "      <td>147.677795</td>\n",
       "      <td>130.398361</td>\n",
       "      <td>11.419209</td>\n",
       "      <td>06:07</td>\n",
       "    </tr>\n",
       "    <tr>\n",
       "      <td>1</td>\n",
       "      <td>131.006897</td>\n",
       "      <td>134.313232</td>\n",
       "      <td>11.589356</td>\n",
       "      <td>06:06</td>\n",
       "    </tr>\n",
       "    <tr>\n",
       "      <td>2</td>\n",
       "      <td>134.925339</td>\n",
       "      <td>129.534119</td>\n",
       "      <td>11.381305</td>\n",
       "      <td>06:06</td>\n",
       "    </tr>\n",
       "    <tr>\n",
       "      <td>3</td>\n",
       "      <td>136.751312</td>\n",
       "      <td>141.018341</td>\n",
       "      <td>11.875113</td>\n",
       "      <td>06:07</td>\n",
       "    </tr>\n",
       "    <tr>\n",
       "      <td>4</td>\n",
       "      <td>118.579239</td>\n",
       "      <td>127.218964</td>\n",
       "      <td>11.279139</td>\n",
       "      <td>06:05</td>\n",
       "    </tr>\n",
       "    <tr>\n",
       "      <td>5</td>\n",
       "      <td>117.963226</td>\n",
       "      <td>127.374542</td>\n",
       "      <td>11.286033</td>\n",
       "      <td>06:06</td>\n",
       "    </tr>\n",
       "    <tr>\n",
       "      <td>6</td>\n",
       "      <td>101.462334</td>\n",
       "      <td>130.403397</td>\n",
       "      <td>11.419431</td>\n",
       "      <td>06:09</td>\n",
       "    </tr>\n",
       "    <tr>\n",
       "      <td>7</td>\n",
       "      <td>92.895943</td>\n",
       "      <td>127.086586</td>\n",
       "      <td>11.273270</td>\n",
       "      <td>06:07</td>\n",
       "    </tr>\n",
       "    <tr>\n",
       "      <td>8</td>\n",
       "      <td>81.299644</td>\n",
       "      <td>120.365784</td>\n",
       "      <td>10.971134</td>\n",
       "      <td>06:03</td>\n",
       "    </tr>\n",
       "    <tr>\n",
       "      <td>9</td>\n",
       "      <td>69.925095</td>\n",
       "      <td>113.802032</td>\n",
       "      <td>10.667803</td>\n",
       "      <td>06:05</td>\n",
       "    </tr>\n",
       "    <tr>\n",
       "      <td>10</td>\n",
       "      <td>63.193371</td>\n",
       "      <td>116.974976</td>\n",
       "      <td>10.815498</td>\n",
       "      <td>06:04</td>\n",
       "    </tr>\n",
       "    <tr>\n",
       "      <td>11</td>\n",
       "      <td>52.245296</td>\n",
       "      <td>116.421219</td>\n",
       "      <td>10.789865</td>\n",
       "      <td>06:04</td>\n",
       "    </tr>\n",
       "    <tr>\n",
       "      <td>12</td>\n",
       "      <td>45.217342</td>\n",
       "      <td>117.131378</td>\n",
       "      <td>10.822725</td>\n",
       "      <td>06:07</td>\n",
       "    </tr>\n",
       "    <tr>\n",
       "      <td>13</td>\n",
       "      <td>41.940411</td>\n",
       "      <td>120.124626</td>\n",
       "      <td>10.960137</td>\n",
       "      <td>06:03</td>\n",
       "    </tr>\n",
       "    <tr>\n",
       "      <td>14</td>\n",
       "      <td>41.136265</td>\n",
       "      <td>118.653519</td>\n",
       "      <td>10.892819</td>\n",
       "      <td>06:03</td>\n",
       "    </tr>\n",
       "  </tbody>\n",
       "</table>"
      ],
      "text/plain": [
       "<IPython.core.display.HTML object>"
      ]
     },
     "metadata": {},
     "output_type": "display_data"
    },
    {
     "data": {
      "text/html": [
       "\n",
       "<style>\n",
       "    /* Turns off some styling */\n",
       "    progress {\n",
       "        /* gets rid of default border in Firefox and Opera. */\n",
       "        border: none;\n",
       "        /* Needs to be in here for Safari polyfill so background images work as expected. */\n",
       "        background-size: auto;\n",
       "    }\n",
       "    progress:not([value]), progress:not([value])::-webkit-progress-bar {\n",
       "        background: repeating-linear-gradient(45deg, #7e7e7e, #7e7e7e 10px, #5c5c5c 10px, #5c5c5c 20px);\n",
       "    }\n",
       "    .progress-bar-interrupted, .progress-bar-interrupted::-webkit-progress-bar {\n",
       "        background: #F44336;\n",
       "    }\n",
       "</style>\n"
      ],
      "text/plain": [
       "<IPython.core.display.HTML object>"
      ]
     },
     "metadata": {},
     "output_type": "display_data"
    },
    {
     "data": {
      "text/html": [
       "\n",
       "    <div>\n",
       "      <progress value='0' class='' max='15' style='width:300px; height:20px; vertical-align: middle;'></progress>\n",
       "      \n",
       "    </div>\n",
       "    \n"
      ],
      "text/plain": [
       "<IPython.core.display.HTML object>"
      ]
     },
     "metadata": {},
     "output_type": "display_data"
    },
    {
     "data": {
      "text/html": [
       "\n",
       "<style>\n",
       "    /* Turns off some styling */\n",
       "    progress {\n",
       "        /* gets rid of default border in Firefox and Opera. */\n",
       "        border: none;\n",
       "        /* Needs to be in here for Safari polyfill so background images work as expected. */\n",
       "        background-size: auto;\n",
       "    }\n",
       "    progress:not([value]), progress:not([value])::-webkit-progress-bar {\n",
       "        background: repeating-linear-gradient(45deg, #7e7e7e, #7e7e7e 10px, #5c5c5c 10px, #5c5c5c 20px);\n",
       "    }\n",
       "    .progress-bar-interrupted, .progress-bar-interrupted::-webkit-progress-bar {\n",
       "        background: #F44336;\n",
       "    }\n",
       "</style>\n"
      ],
      "text/plain": [
       "<IPython.core.display.HTML object>"
      ]
     },
     "metadata": {},
     "output_type": "display_data"
    },
    {
     "data": {
      "text/html": [],
      "text/plain": [
       "<IPython.core.display.HTML object>"
      ]
     },
     "metadata": {},
     "output_type": "display_data"
    },
    {
     "name": "stdout",
     "output_type": "stream",
     "text": [
      "CPU times: user 3h 8min 58s, sys: 1h 6min 9s, total: 4h 15min 7s\n",
      "Wall time: 5h 42min 49s\n"
     ]
    }
   ],
   "source": [
    "%%time\n",
    "tta_res = []\n",
    "\n",
    "for arch,details in models.items():\n",
    "    for item,size in details:\n",
    "        print('---',arch)\n",
    "        print(size)\n",
    "        print(item.name)\n",
    "        tta_res.append(train(arch, size, item=item)) #, epochs=1))\n",
    "        gc.collect()\n",
    "        torch.cuda.empty_cache()"
   ]
  },
  {
   "cell_type": "code",
   "execution_count": 12,
   "id": "b1bff065",
   "metadata": {
    "execution": {
     "iopub.execute_input": "2023-11-03T20:24:54.751223Z",
     "iopub.status.busy": "2023-11-03T20:24:54.750892Z",
     "iopub.status.idle": "2023-11-03T20:24:54.756949Z",
     "shell.execute_reply": "2023-11-03T20:24:54.756059Z"
    },
    "papermill": {
     "duration": 0.019196,
     "end_time": "2023-11-03T20:24:54.758896",
     "exception": false,
     "start_time": "2023-11-03T20:24:54.739700",
     "status": "completed"
    },
    "tags": []
   },
   "outputs": [],
   "source": [
    "save_pickle('tta_res.pkl', tta_res)"
   ]
  },
  {
   "cell_type": "code",
   "execution_count": 13,
   "id": "32b66408",
   "metadata": {
    "execution": {
     "iopub.execute_input": "2023-11-03T20:24:54.779686Z",
     "iopub.status.busy": "2023-11-03T20:24:54.779389Z",
     "iopub.status.idle": "2023-11-03T20:24:54.783550Z",
     "shell.execute_reply": "2023-11-03T20:24:54.782594Z"
    },
    "papermill": {
     "duration": 0.016811,
     "end_time": "2023-11-03T20:24:54.785495",
     "exception": false,
     "start_time": "2023-11-03T20:24:54.768684",
     "status": "completed"
    },
    "tags": []
   },
   "outputs": [],
   "source": [
    "tta_prs = first(zip(*tta_res))"
   ]
  },
  {
   "cell_type": "code",
   "execution_count": 14,
   "id": "89eeaea8",
   "metadata": {
    "execution": {
     "iopub.execute_input": "2023-11-03T20:24:54.806255Z",
     "iopub.status.busy": "2023-11-03T20:24:54.805961Z",
     "iopub.status.idle": "2023-11-03T20:24:54.812164Z",
     "shell.execute_reply": "2023-11-03T20:24:54.811234Z"
    },
    "papermill": {
     "duration": 0.018925,
     "end_time": "2023-11-03T20:24:54.814288",
     "exception": false,
     "start_time": "2023-11-03T20:24:54.795363",
     "status": "completed"
    },
    "tags": []
   },
   "outputs": [
    {
     "data": {
      "text/plain": [
       "torch.Size([8663, 1])"
      ]
     },
     "execution_count": 14,
     "metadata": {},
     "output_type": "execute_result"
    }
   ],
   "source": [
    "avg_pr = torch.stack(tta_prs).mean(0)\n",
    "avg_pr.shape"
   ]
  },
  {
   "cell_type": "code",
   "execution_count": 15,
   "id": "d6f3ccb7",
   "metadata": {
    "execution": {
     "iopub.execute_input": "2023-11-03T20:24:54.835621Z",
     "iopub.status.busy": "2023-11-03T20:24:54.834894Z",
     "iopub.status.idle": "2023-11-03T20:24:54.839685Z",
     "shell.execute_reply": "2023-11-03T20:24:54.838769Z"
    },
    "papermill": {
     "duration": 0.017348,
     "end_time": "2023-11-03T20:24:54.841641",
     "exception": false,
     "start_time": "2023-11-03T20:24:54.824293",
     "status": "completed"
    },
    "tags": []
   },
   "outputs": [],
   "source": [
    "preds    = torch.relu(avg_pr)"
   ]
  },
  {
   "cell_type": "code",
   "execution_count": 16,
   "id": "5e4b835e",
   "metadata": {
    "execution": {
     "iopub.execute_input": "2023-11-03T20:24:54.867229Z",
     "iopub.status.busy": "2023-11-03T20:24:54.866816Z",
     "iopub.status.idle": "2023-11-03T20:24:54.874865Z",
     "shell.execute_reply": "2023-11-03T20:24:54.873761Z"
    },
    "papermill": {
     "duration": 0.025901,
     "end_time": "2023-11-03T20:24:54.877394",
     "exception": false,
     "start_time": "2023-11-03T20:24:54.851493",
     "status": "completed"
    },
    "tags": []
   },
   "outputs": [],
   "source": [
    "submission_df = pd.DataFrame({\n",
    "    'ID': test_df['ID'],\n",
    "    'extent': preds.squeeze().numpy()  # Use .squeeze() to remove any extra dimensions from the predictions\n",
    "})"
   ]
  },
  {
   "cell_type": "code",
   "execution_count": 17,
   "id": "fdda9868",
   "metadata": {
    "execution": {
     "iopub.execute_input": "2023-11-03T20:24:54.904287Z",
     "iopub.status.busy": "2023-11-03T20:24:54.903637Z",
     "iopub.status.idle": "2023-11-03T20:24:54.948590Z",
     "shell.execute_reply": "2023-11-03T20:24:54.947244Z"
    },
    "papermill": {
     "duration": 0.059183,
     "end_time": "2023-11-03T20:24:54.951232",
     "exception": false,
     "start_time": "2023-11-03T20:24:54.892049",
     "status": "completed"
    },
    "tags": []
   },
   "outputs": [],
   "source": [
    "submission_df.to_csv('SampleSubmission.csv', index=False)"
   ]
  },
  {
   "cell_type": "code",
   "execution_count": null,
   "id": "482da31b",
   "metadata": {
    "papermill": {
     "duration": 0.011852,
     "end_time": "2023-11-03T20:24:54.978076",
     "exception": false,
     "start_time": "2023-11-03T20:24:54.966224",
     "status": "completed"
    },
    "tags": []
   },
   "outputs": [],
   "source": []
  },
  {
   "cell_type": "code",
   "execution_count": null,
   "id": "6fe8d7c4",
   "metadata": {
    "papermill": {
     "duration": 0.009854,
     "end_time": "2023-11-03T20:24:55.000778",
     "exception": false,
     "start_time": "2023-11-03T20:24:54.990924",
     "status": "completed"
    },
    "tags": []
   },
   "outputs": [],
   "source": []
  }
 ],
 "metadata": {
  "kernelspec": {
   "display_name": "Python 3",
   "language": "python",
   "name": "python3"
  },
  "language_info": {
   "codemirror_mode": {
    "name": "ipython",
    "version": 3
   },
   "file_extension": ".py",
   "mimetype": "text/x-python",
   "name": "python",
   "nbconvert_exporter": "python",
   "pygments_lexer": "ipython3",
   "version": "3.10.12"
  },
  "papermill": {
   "default_parameters": {},
   "duration": 20582.203259,
   "end_time": "2023-11-03T20:24:57.935522",
   "environment_variables": {},
   "exception": null,
   "input_path": "__notebook__.ipynb",
   "output_path": "__notebook__.ipynb",
   "parameters": {},
   "start_time": "2023-11-03T14:41:55.732263",
   "version": "2.4.0"
  },
  "widgets": {
   "application/vnd.jupyter.widget-state+json": {
    "state": {
     "0c3dc9d259644f6ea381182d93c0435a": {
      "model_module": "@jupyter-widgets/base",
      "model_module_version": "1.2.0",
      "model_name": "LayoutModel",
      "state": {
       "_model_module": "@jupyter-widgets/base",
       "_model_module_version": "1.2.0",
       "_model_name": "LayoutModel",
       "_view_count": null,
       "_view_module": "@jupyter-widgets/base",
       "_view_module_version": "1.2.0",
       "_view_name": "LayoutView",
       "align_content": null,
       "align_items": null,
       "align_self": null,
       "border": null,
       "bottom": null,
       "display": null,
       "flex": null,
       "flex_flow": null,
       "grid_area": null,
       "grid_auto_columns": null,
       "grid_auto_flow": null,
       "grid_auto_rows": null,
       "grid_column": null,
       "grid_gap": null,
       "grid_row": null,
       "grid_template_areas": null,
       "grid_template_columns": null,
       "grid_template_rows": null,
       "height": null,
       "justify_content": null,
       "justify_items": null,
       "left": null,
       "margin": null,
       "max_height": null,
       "max_width": null,
       "min_height": null,
       "min_width": null,
       "object_fit": null,
       "object_position": null,
       "order": null,
       "overflow": null,
       "overflow_x": null,
       "overflow_y": null,
       "padding": null,
       "right": null,
       "top": null,
       "visibility": null,
       "width": null
      }
     },
     "151ccead055840e3a1c479b4b02b3732": {
      "model_module": "@jupyter-widgets/base",
      "model_module_version": "1.2.0",
      "model_name": "LayoutModel",
      "state": {
       "_model_module": "@jupyter-widgets/base",
       "_model_module_version": "1.2.0",
       "_model_name": "LayoutModel",
       "_view_count": null,
       "_view_module": "@jupyter-widgets/base",
       "_view_module_version": "1.2.0",
       "_view_name": "LayoutView",
       "align_content": null,
       "align_items": null,
       "align_self": null,
       "border": null,
       "bottom": null,
       "display": null,
       "flex": null,
       "flex_flow": null,
       "grid_area": null,
       "grid_auto_columns": null,
       "grid_auto_flow": null,
       "grid_auto_rows": null,
       "grid_column": null,
       "grid_gap": null,
       "grid_row": null,
       "grid_template_areas": null,
       "grid_template_columns": null,
       "grid_template_rows": null,
       "height": null,
       "justify_content": null,
       "justify_items": null,
       "left": null,
       "margin": null,
       "max_height": null,
       "max_width": null,
       "min_height": null,
       "min_width": null,
       "object_fit": null,
       "object_position": null,
       "order": null,
       "overflow": null,
       "overflow_x": null,
       "overflow_y": null,
       "padding": null,
       "right": null,
       "top": null,
       "visibility": null,
       "width": null
      }
     },
     "16313e29a5f44be78013b4d7944bef71": {
      "model_module": "@jupyter-widgets/base",
      "model_module_version": "1.2.0",
      "model_name": "LayoutModel",
      "state": {
       "_model_module": "@jupyter-widgets/base",
       "_model_module_version": "1.2.0",
       "_model_name": "LayoutModel",
       "_view_count": null,
       "_view_module": "@jupyter-widgets/base",
       "_view_module_version": "1.2.0",
       "_view_name": "LayoutView",
       "align_content": null,
       "align_items": null,
       "align_self": null,
       "border": null,
       "bottom": null,
       "display": null,
       "flex": null,
       "flex_flow": null,
       "grid_area": null,
       "grid_auto_columns": null,
       "grid_auto_flow": null,
       "grid_auto_rows": null,
       "grid_column": null,
       "grid_gap": null,
       "grid_row": null,
       "grid_template_areas": null,
       "grid_template_columns": null,
       "grid_template_rows": null,
       "height": null,
       "justify_content": null,
       "justify_items": null,
       "left": null,
       "margin": null,
       "max_height": null,
       "max_width": null,
       "min_height": null,
       "min_width": null,
       "object_fit": null,
       "object_position": null,
       "order": null,
       "overflow": null,
       "overflow_x": null,
       "overflow_y": null,
       "padding": null,
       "right": null,
       "top": null,
       "visibility": null,
       "width": null
      }
     },
     "19d414d1cc214d06bf4de9409fd90854": {
      "model_module": "@jupyter-widgets/base",
      "model_module_version": "1.2.0",
      "model_name": "LayoutModel",
      "state": {
       "_model_module": "@jupyter-widgets/base",
       "_model_module_version": "1.2.0",
       "_model_name": "LayoutModel",
       "_view_count": null,
       "_view_module": "@jupyter-widgets/base",
       "_view_module_version": "1.2.0",
       "_view_name": "LayoutView",
       "align_content": null,
       "align_items": null,
       "align_self": null,
       "border": null,
       "bottom": null,
       "display": null,
       "flex": null,
       "flex_flow": null,
       "grid_area": null,
       "grid_auto_columns": null,
       "grid_auto_flow": null,
       "grid_auto_rows": null,
       "grid_column": null,
       "grid_gap": null,
       "grid_row": null,
       "grid_template_areas": null,
       "grid_template_columns": null,
       "grid_template_rows": null,
       "height": null,
       "justify_content": null,
       "justify_items": null,
       "left": null,
       "margin": null,
       "max_height": null,
       "max_width": null,
       "min_height": null,
       "min_width": null,
       "object_fit": null,
       "object_position": null,
       "order": null,
       "overflow": null,
       "overflow_x": null,
       "overflow_y": null,
       "padding": null,
       "right": null,
       "top": null,
       "visibility": null,
       "width": null
      }
     },
     "1d1427f55d9e4b4b9fb0f1d423b3b077": {
      "model_module": "@jupyter-widgets/controls",
      "model_module_version": "1.5.0",
      "model_name": "HBoxModel",
      "state": {
       "_dom_classes": [],
       "_model_module": "@jupyter-widgets/controls",
       "_model_module_version": "1.5.0",
       "_model_name": "HBoxModel",
       "_view_count": null,
       "_view_module": "@jupyter-widgets/controls",
       "_view_module_version": "1.5.0",
       "_view_name": "HBoxView",
       "box_style": "",
       "children": [
        "IPY_MODEL_28f6427cfedb45fe9e46c9bea13e28c3",
        "IPY_MODEL_e886fcfd35554ff3b7ea4954719df9b6",
        "IPY_MODEL_e45042aab49346f3b495091ab548568a"
       ],
       "layout": "IPY_MODEL_19d414d1cc214d06bf4de9409fd90854"
      }
     },
     "28f6427cfedb45fe9e46c9bea13e28c3": {
      "model_module": "@jupyter-widgets/controls",
      "model_module_version": "1.5.0",
      "model_name": "HTMLModel",
      "state": {
       "_dom_classes": [],
       "_model_module": "@jupyter-widgets/controls",
       "_model_module_version": "1.5.0",
       "_model_name": "HTMLModel",
       "_view_count": null,
       "_view_module": "@jupyter-widgets/controls",
       "_view_module_version": "1.5.0",
       "_view_name": "HTMLView",
       "description": "",
       "description_tooltip": null,
       "layout": "IPY_MODEL_16313e29a5f44be78013b4d7944bef71",
       "placeholder": "​",
       "style": "IPY_MODEL_359e2a4bea064a258f38fa7a8571b31b",
       "value": "Downloading model.safetensors: 100%"
      }
     },
     "33e7fa82a2e445d4847d310ad4463d69": {
      "model_module": "@jupyter-widgets/base",
      "model_module_version": "1.2.0",
      "model_name": "LayoutModel",
      "state": {
       "_model_module": "@jupyter-widgets/base",
       "_model_module_version": "1.2.0",
       "_model_name": "LayoutModel",
       "_view_count": null,
       "_view_module": "@jupyter-widgets/base",
       "_view_module_version": "1.2.0",
       "_view_name": "LayoutView",
       "align_content": null,
       "align_items": null,
       "align_self": null,
       "border": null,
       "bottom": null,
       "display": null,
       "flex": null,
       "flex_flow": null,
       "grid_area": null,
       "grid_auto_columns": null,
       "grid_auto_flow": null,
       "grid_auto_rows": null,
       "grid_column": null,
       "grid_gap": null,
       "grid_row": null,
       "grid_template_areas": null,
       "grid_template_columns": null,
       "grid_template_rows": null,
       "height": null,
       "justify_content": null,
       "justify_items": null,
       "left": null,
       "margin": null,
       "max_height": null,
       "max_width": null,
       "min_height": null,
       "min_width": null,
       "object_fit": null,
       "object_position": null,
       "order": null,
       "overflow": null,
       "overflow_x": null,
       "overflow_y": null,
       "padding": null,
       "right": null,
       "top": null,
       "visibility": null,
       "width": null
      }
     },
     "359e2a4bea064a258f38fa7a8571b31b": {
      "model_module": "@jupyter-widgets/controls",
      "model_module_version": "1.5.0",
      "model_name": "DescriptionStyleModel",
      "state": {
       "_model_module": "@jupyter-widgets/controls",
       "_model_module_version": "1.5.0",
       "_model_name": "DescriptionStyleModel",
       "_view_count": null,
       "_view_module": "@jupyter-widgets/base",
       "_view_module_version": "1.2.0",
       "_view_name": "StyleView",
       "description_width": ""
      }
     },
     "443d3d48503f467db926888ce83275ae": {
      "model_module": "@jupyter-widgets/controls",
      "model_module_version": "1.5.0",
      "model_name": "DescriptionStyleModel",
      "state": {
       "_model_module": "@jupyter-widgets/controls",
       "_model_module_version": "1.5.0",
       "_model_name": "DescriptionStyleModel",
       "_view_count": null,
       "_view_module": "@jupyter-widgets/base",
       "_view_module_version": "1.2.0",
       "_view_name": "StyleView",
       "description_width": ""
      }
     },
     "4a829d17a6044b03b1b3a56db72cdc05": {
      "model_module": "@jupyter-widgets/base",
      "model_module_version": "1.2.0",
      "model_name": "LayoutModel",
      "state": {
       "_model_module": "@jupyter-widgets/base",
       "_model_module_version": "1.2.0",
       "_model_name": "LayoutModel",
       "_view_count": null,
       "_view_module": "@jupyter-widgets/base",
       "_view_module_version": "1.2.0",
       "_view_name": "LayoutView",
       "align_content": null,
       "align_items": null,
       "align_self": null,
       "border": null,
       "bottom": null,
       "display": null,
       "flex": null,
       "flex_flow": null,
       "grid_area": null,
       "grid_auto_columns": null,
       "grid_auto_flow": null,
       "grid_auto_rows": null,
       "grid_column": null,
       "grid_gap": null,
       "grid_row": null,
       "grid_template_areas": null,
       "grid_template_columns": null,
       "grid_template_rows": null,
       "height": null,
       "justify_content": null,
       "justify_items": null,
       "left": null,
       "margin": null,
       "max_height": null,
       "max_width": null,
       "min_height": null,
       "min_width": null,
       "object_fit": null,
       "object_position": null,
       "order": null,
       "overflow": null,
       "overflow_x": null,
       "overflow_y": null,
       "padding": null,
       "right": null,
       "top": null,
       "visibility": null,
       "width": null
      }
     },
     "67c384204ae9401d9a87ce968be434a9": {
      "model_module": "@jupyter-widgets/controls",
      "model_module_version": "1.5.0",
      "model_name": "FloatProgressModel",
      "state": {
       "_dom_classes": [],
       "_model_module": "@jupyter-widgets/controls",
       "_model_module_version": "1.5.0",
       "_model_name": "FloatProgressModel",
       "_view_count": null,
       "_view_module": "@jupyter-widgets/controls",
       "_view_module_version": "1.5.0",
       "_view_name": "ProgressView",
       "bar_style": "success",
       "description": "",
       "description_tooltip": null,
       "layout": "IPY_MODEL_33e7fa82a2e445d4847d310ad4463d69",
       "max": 88216496.0,
       "min": 0.0,
       "orientation": "horizontal",
       "style": "IPY_MODEL_e3ad7d61a54d4b3fa10d732365808dbf",
       "value": 88216496.0
      }
     },
     "6d5e0418d94a47218c8b721c29834b2b": {
      "model_module": "@jupyter-widgets/controls",
      "model_module_version": "1.5.0",
      "model_name": "HTMLModel",
      "state": {
       "_dom_classes": [],
       "_model_module": "@jupyter-widgets/controls",
       "_model_module_version": "1.5.0",
       "_model_name": "HTMLModel",
       "_view_count": null,
       "_view_module": "@jupyter-widgets/controls",
       "_view_module_version": "1.5.0",
       "_view_name": "HTMLView",
       "description": "",
       "description_tooltip": null,
       "layout": "IPY_MODEL_afa1faacb2a74496aae82b413a43ee6b",
       "placeholder": "​",
       "style": "IPY_MODEL_443d3d48503f467db926888ce83275ae",
       "value": " 88.2M/88.2M [00:02&lt;00:00, 42.0MB/s]"
      }
     },
     "74a12af3a32245afb143fbdb9b41fbfc": {
      "model_module": "@jupyter-widgets/controls",
      "model_module_version": "1.5.0",
      "model_name": "HBoxModel",
      "state": {
       "_dom_classes": [],
       "_model_module": "@jupyter-widgets/controls",
       "_model_module_version": "1.5.0",
       "_model_name": "HBoxModel",
       "_view_count": null,
       "_view_module": "@jupyter-widgets/controls",
       "_view_module_version": "1.5.0",
       "_view_name": "HBoxView",
       "box_style": "",
       "children": [
        "IPY_MODEL_ee87048c70c6458eb0041f74ee791160",
        "IPY_MODEL_67c384204ae9401d9a87ce968be434a9",
        "IPY_MODEL_6d5e0418d94a47218c8b721c29834b2b"
       ],
       "layout": "IPY_MODEL_f99cc4bd33134a999e456892fe553e02"
      }
     },
     "8e800e72489645a59715d03928bd858f": {
      "model_module": "@jupyter-widgets/controls",
      "model_module_version": "1.5.0",
      "model_name": "DescriptionStyleModel",
      "state": {
       "_model_module": "@jupyter-widgets/controls",
       "_model_module_version": "1.5.0",
       "_model_name": "DescriptionStyleModel",
       "_view_count": null,
       "_view_module": "@jupyter-widgets/base",
       "_view_module_version": "1.2.0",
       "_view_name": "StyleView",
       "description_width": ""
      }
     },
     "93bf4bc28bde4d7da7fa28a0f724823f": {
      "model_module": "@jupyter-widgets/controls",
      "model_module_version": "1.5.0",
      "model_name": "DescriptionStyleModel",
      "state": {
       "_model_module": "@jupyter-widgets/controls",
       "_model_module_version": "1.5.0",
       "_model_name": "DescriptionStyleModel",
       "_view_count": null,
       "_view_module": "@jupyter-widgets/base",
       "_view_module_version": "1.2.0",
       "_view_name": "StyleView",
       "description_width": ""
      }
     },
     "afa1faacb2a74496aae82b413a43ee6b": {
      "model_module": "@jupyter-widgets/base",
      "model_module_version": "1.2.0",
      "model_name": "LayoutModel",
      "state": {
       "_model_module": "@jupyter-widgets/base",
       "_model_module_version": "1.2.0",
       "_model_name": "LayoutModel",
       "_view_count": null,
       "_view_module": "@jupyter-widgets/base",
       "_view_module_version": "1.2.0",
       "_view_name": "LayoutView",
       "align_content": null,
       "align_items": null,
       "align_self": null,
       "border": null,
       "bottom": null,
       "display": null,
       "flex": null,
       "flex_flow": null,
       "grid_area": null,
       "grid_auto_columns": null,
       "grid_auto_flow": null,
       "grid_auto_rows": null,
       "grid_column": null,
       "grid_gap": null,
       "grid_row": null,
       "grid_template_areas": null,
       "grid_template_columns": null,
       "grid_template_rows": null,
       "height": null,
       "justify_content": null,
       "justify_items": null,
       "left": null,
       "margin": null,
       "max_height": null,
       "max_width": null,
       "min_height": null,
       "min_width": null,
       "object_fit": null,
       "object_position": null,
       "order": null,
       "overflow": null,
       "overflow_x": null,
       "overflow_y": null,
       "padding": null,
       "right": null,
       "top": null,
       "visibility": null,
       "width": null
      }
     },
     "d05366e1dd2a41bfa18ddb5d0de9f229": {
      "model_module": "@jupyter-widgets/controls",
      "model_module_version": "1.5.0",
      "model_name": "ProgressStyleModel",
      "state": {
       "_model_module": "@jupyter-widgets/controls",
       "_model_module_version": "1.5.0",
       "_model_name": "ProgressStyleModel",
       "_view_count": null,
       "_view_module": "@jupyter-widgets/base",
       "_view_module_version": "1.2.0",
       "_view_name": "StyleView",
       "bar_color": null,
       "description_width": ""
      }
     },
     "e3ad7d61a54d4b3fa10d732365808dbf": {
      "model_module": "@jupyter-widgets/controls",
      "model_module_version": "1.5.0",
      "model_name": "ProgressStyleModel",
      "state": {
       "_model_module": "@jupyter-widgets/controls",
       "_model_module_version": "1.5.0",
       "_model_name": "ProgressStyleModel",
       "_view_count": null,
       "_view_module": "@jupyter-widgets/base",
       "_view_module_version": "1.2.0",
       "_view_name": "StyleView",
       "bar_color": null,
       "description_width": ""
      }
     },
     "e45042aab49346f3b495091ab548568a": {
      "model_module": "@jupyter-widgets/controls",
      "model_module_version": "1.5.0",
      "model_name": "HTMLModel",
      "state": {
       "_dom_classes": [],
       "_model_module": "@jupyter-widgets/controls",
       "_model_module_version": "1.5.0",
       "_model_name": "HTMLModel",
       "_view_count": null,
       "_view_module": "@jupyter-widgets/controls",
       "_view_module_version": "1.5.0",
       "_view_name": "HTMLView",
       "description": "",
       "description_tooltip": null,
       "layout": "IPY_MODEL_4a829d17a6044b03b1b3a56db72cdc05",
       "placeholder": "​",
       "style": "IPY_MODEL_93bf4bc28bde4d7da7fa28a0f724823f",
       "value": " 265M/265M [00:07&lt;00:00, 39.8MB/s]"
      }
     },
     "e886fcfd35554ff3b7ea4954719df9b6": {
      "model_module": "@jupyter-widgets/controls",
      "model_module_version": "1.5.0",
      "model_name": "FloatProgressModel",
      "state": {
       "_dom_classes": [],
       "_model_module": "@jupyter-widgets/controls",
       "_model_module_version": "1.5.0",
       "_model_name": "FloatProgressModel",
       "_view_count": null,
       "_view_module": "@jupyter-widgets/controls",
       "_view_module_version": "1.5.0",
       "_view_name": "ProgressView",
       "bar_style": "success",
       "description": "",
       "description_tooltip": null,
       "layout": "IPY_MODEL_0c3dc9d259644f6ea381182d93c0435a",
       "max": 265036242.0,
       "min": 0.0,
       "orientation": "horizontal",
       "style": "IPY_MODEL_d05366e1dd2a41bfa18ddb5d0de9f229",
       "value": 265036242.0
      }
     },
     "ee87048c70c6458eb0041f74ee791160": {
      "model_module": "@jupyter-widgets/controls",
      "model_module_version": "1.5.0",
      "model_name": "HTMLModel",
      "state": {
       "_dom_classes": [],
       "_model_module": "@jupyter-widgets/controls",
       "_model_module_version": "1.5.0",
       "_model_name": "HTMLModel",
       "_view_count": null,
       "_view_module": "@jupyter-widgets/controls",
       "_view_module_version": "1.5.0",
       "_view_name": "HTMLView",
       "description": "",
       "description_tooltip": null,
       "layout": "IPY_MODEL_151ccead055840e3a1c479b4b02b3732",
       "placeholder": "​",
       "style": "IPY_MODEL_8e800e72489645a59715d03928bd858f",
       "value": "Downloading model.safetensors: 100%"
      }
     },
     "f99cc4bd33134a999e456892fe553e02": {
      "model_module": "@jupyter-widgets/base",
      "model_module_version": "1.2.0",
      "model_name": "LayoutModel",
      "state": {
       "_model_module": "@jupyter-widgets/base",
       "_model_module_version": "1.2.0",
       "_model_name": "LayoutModel",
       "_view_count": null,
       "_view_module": "@jupyter-widgets/base",
       "_view_module_version": "1.2.0",
       "_view_name": "LayoutView",
       "align_content": null,
       "align_items": null,
       "align_self": null,
       "border": null,
       "bottom": null,
       "display": null,
       "flex": null,
       "flex_flow": null,
       "grid_area": null,
       "grid_auto_columns": null,
       "grid_auto_flow": null,
       "grid_auto_rows": null,
       "grid_column": null,
       "grid_gap": null,
       "grid_row": null,
       "grid_template_areas": null,
       "grid_template_columns": null,
       "grid_template_rows": null,
       "height": null,
       "justify_content": null,
       "justify_items": null,
       "left": null,
       "margin": null,
       "max_height": null,
       "max_width": null,
       "min_height": null,
       "min_width": null,
       "object_fit": null,
       "object_position": null,
       "order": null,
       "overflow": null,
       "overflow_x": null,
       "overflow_y": null,
       "padding": null,
       "right": null,
       "top": null,
       "visibility": null,
       "width": null
      }
     }
    },
    "version_major": 2,
    "version_minor": 0
   }
  }
 },
 "nbformat": 4,
 "nbformat_minor": 5
}
